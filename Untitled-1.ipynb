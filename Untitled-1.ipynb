{
 "cells": [
  {
   "cell_type": "code",
   "execution_count": 25,
   "metadata": {},
   "outputs": [
    {
     "name": "stdout",
     "output_type": "stream",
     "text": [
      "Tamanho da fila:  3\n",
      "Removendo elemento da fila:  1\n",
      "Tamanho da fila após remoção:  2\n"
     ]
    }
   ],
   "source": [
    "# Estrutura de dados em fila\n",
    "\n",
    "lista_fila = []\n",
    "\n",
    "def fila(item):\n",
    "    \"\"\"Adiciona um item na fila\"\"\"\n",
    "    lista_fila.append(item)\n",
    "\n",
    "def altera_fila():\n",
    "    \"\"\"Insere e remove elementos da fila\"\"\"\n",
    "    if len(lista_fila) > 0:\n",
    "        return lista_fila.pop(0)\n",
    "    else:\n",
    "        return None\n",
    "    \n",
    "fila(1)\n",
    "fila(2)\n",
    "fila(3)\n",
    "\n",
    "print(\"Tamanho da fila: \", len(lista_fila))\n",
    "print(\"Removendo elemento da fila: \", altera_fila())\n",
    "print(\"Tamanho da fila após remoção: \", len(lista_fila))\n"
   ]
  },
  {
   "cell_type": "code",
   "execution_count": 1,
   "metadata": {},
   "outputs": [
    {
     "name": "stdout",
     "output_type": "stream",
     "text": [
      "Valores inseridos na lista [1, 1, 1, 1, 1]\n",
      "Removendo elemento da fila:  1\n",
      "Lista após a remoção:  [1, 1, 1, 1]\n"
     ]
    }
   ],
   "source": [
    "# Crie uma estrutura com input para o usuário  inserir 5 valores dentro de uma lista chamada lista_fila usando append\n",
    "\n",
    "lista_fila = []\n",
    "\n",
    "for i in range(5):\n",
    "    numero = int(input(\"Digite um número: \"))\n",
    "    lista_fila.append(numero)\n",
    "\n",
    "print(\"Valores inseridos na lista\", lista_fila)\n",
    "\n",
    "def altera_fila():\n",
    "    \"\"\"Insere e remove elementos da fila\"\"\"\n",
    "    if len(lista_fila) > 0:\n",
    "        return lista_fila.pop(int(input(\"Digite a posição do número que deseja remover: (0 à 4)\"))) \n",
    "    else:\n",
    "        return None\n",
    "    \n",
    "print(\"Removendo elemento da fila: \", altera_fila())\n",
    "print(\"Lista após a remoção: \",lista_fila)\n"
   ]
  },
  {
   "cell_type": "code",
   "execution_count": null,
   "metadata": {},
   "outputs": [],
   "source": [
    "\"\"\"Exercícios \n",
    "\n",
    "1 - Crie uma condição para remover dois elementos da lista = [10, 20, 30, 40, 50]\n",
    "Obs: precisa remover o elemento 10 e 20, pois são os primeiros elementos da lista\n",
    "\n",
    "2 - Mostre o tamanho da lista antes e depois da remoção\n",
    "\n",
    "3 - Crie um programa para solicitar 10 elementos não númericos para o usuário, exemplo: tipo de carro: cruze, palio, docus, ka, spin, \n",
    "hb20, fit, creta, A3. Em seguida, crie uma estrutura para simular a saída dos quatro primeiros carros a entrar na fila de um pedágio, \n",
    "mostrando também a saída na sequência correta.\n",
    "\n",
    "4 - Crie um programa que solicite pacientes em um hospital utilizando a estrutura de dados em fila. Neste exemplo, \n",
    "considere 5 pacientes. No entanto, crie uma estrutura para quebrar a estrutura firt in firt out, caso um paciente tenha tido um\n",
    "problema que deve ser atendido com urgencia. \n",
    "\"\"\""
   ]
  },
  {
   "cell_type": "code",
   "execution_count": null,
   "metadata": {},
   "outputs": [
    {
     "name": "stdout",
     "output_type": "stream",
     "text": [
      "Tamanho da fila:  5\n",
      "Removendo elemento da fila:  [30, 40, 50]\n",
      "Tamanho da fila após remoção:  3\n"
     ]
    }
   ],
   "source": [
    "# Exercício 1 e 2\n",
    "\n",
    "lista = [10, 20, 30, 40, 50]\n",
    "\n",
    "def remover():\n",
    "    if len(lista) > 0:\n",
    "        lista.pop(0)\n",
    "        lista.pop(0)\n",
    "        return lista\n",
    "    else: \n",
    "        return None\n",
    "    \n",
    "print(\"Tamanho da fila: \", len(lista))\n",
    "print(\"Removendo elemento da fila: \", remover())\n",
    "print(\"Tamanho da fila após remoção: \", len(lista))"
   ]
  },
  {
   "cell_type": "code",
   "execution_count": 29,
   "metadata": {},
   "outputs": [
    {
     "name": "stdout",
     "output_type": "stream",
     "text": [
      "Valores inseridos na lista ['a', 'a', 'aa', 'a', 'a', 'a', 'a', 'a', 'a', 'a']\n",
      "Tamanho da fila no pedágio:  1\n",
      "Removendo elementos da fila:  ['a', 'a', 'a', 'a', 'a', 'a']\n",
      "Tamanho da fila após remoção:  6\n"
     ]
    }
   ],
   "source": [
    "# Exercicio 3\n",
    "\n",
    "lista = []\n",
    "\n",
    "for i in range(10):\n",
    "    elementos = input(\"Digite 10 elementos quaisquer:\")\n",
    "    lista.append(elementos)\n",
    "\n",
    "\n",
    "print(\"Valores inseridos na lista\", lista)\n",
    "\n",
    "def remover():\n",
    "    if len(lista) > 0:\n",
    "        lista.pop(0)\n",
    "        lista.pop(0)\n",
    "        lista.pop(0)\n",
    "        lista.pop(0)\n",
    "        return lista\n",
    "    else:\n",
    "        return None\n",
    "    \n",
    "print(\"Tamanho da fila: \", len(elementos))\n",
    "print(\"Removendo elementos da fila: \", remover() )\n",
    "print(\"Tamanho da fila após remoção: \", len(lista))"
   ]
  },
  {
   "cell_type": "code",
   "execution_count": null,
   "metadata": {},
   "outputs": [],
   "source": [
    "# Exercicio 4 \n",
    "\n"
   ]
  }
 ],
 "metadata": {
  "kernelspec": {
   "display_name": "Python 3",
   "language": "python",
   "name": "python3"
  },
  "language_info": {
   "codemirror_mode": {
    "name": "ipython",
    "version": 3
   },
   "file_extension": ".py",
   "mimetype": "text/x-python",
   "name": "python",
   "nbconvert_exporter": "python",
   "pygments_lexer": "ipython3",
   "version": "3.11.4"
  },
  "orig_nbformat": 4
 },
 "nbformat": 4,
 "nbformat_minor": 2
}
